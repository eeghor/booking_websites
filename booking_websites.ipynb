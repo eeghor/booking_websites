{
 "cells": [
  {
   "cell_type": "code",
   "execution_count": 3,
   "metadata": {},
   "outputs": [],
   "source": [
    "import requests\n",
    "import json\n",
    "import os\n",
    "from bs4 import BeautifulSoup"
   ]
  },
  {
   "cell_type": "code",
   "execution_count": 77,
   "metadata": {},
   "outputs": [],
   "source": [
    "class BookingWebsites:\n",
    "    \n",
    "    def __init__(self):\n",
    "        \n",
    "        self.websites = set()\n",
    "        self.urls = {'muslimtravelgirl.com': 'https://muslimtravelgirl.com/comprehensive-list-of-hotel-booking-sites/',\n",
    "                    'touropia.com': 'https://www.touropia.com/best-hotel-websites/',\n",
    "                    'smartertravel.com': 'https://www.smartertravel.com/the-10-best-hotel-booking-sites/',\n",
    "                    'hostessmeetsworld.com': 'http://www.hostessmeetsworld.com/top-10-homestay-and-lodging/'}\n",
    "    \n",
    "    def get(self):\n",
    "        \n",
    "        for s in self.urls:\n",
    "                \n",
    "            print(f'collecting data from {s}...')\n",
    "            \n",
    "            r = requests.get(self.urls[s]).text\n",
    "            soup = BeautifulSoup(r, 'html.parser')\n",
    "                \n",
    "            if s == 'muslimtravelgirl.com':\n",
    "        \n",
    "                # visit each section corresponsing to the firs letter of airline's name\n",
    "                for d in soup.find_all('ul'):\n",
    "                    for l in d.children:\n",
    "                        a_ = l.find('a')\n",
    "                        if 'muslimtravelgirl' in a_.get('href'):\n",
    "                            continue\n",
    "                        self.websites.add(a_.text.lower().strip())\n",
    "                        \n",
    "            elif s == 'touropia.com':\n",
    "                \n",
    "                for d in soup.find_all('p'):\n",
    "                    for a_ in d.find_all('a', attrs={'rel': 'nofollow'}):\n",
    "                        if 'touropia.com' not in a_.get('href'):\n",
    "                            self.websites.add(a_.get('href').lower().split('www.')[-1].replace('/','').strip())\n",
    "            elif s == 'smartertravel.com':\n",
    "                \n",
    "                for p in soup.find_all('p'):\n",
    "                    if 'frommer' in p.text.lower():\n",
    "                        for s in p.next_siblings:\n",
    "                            if s.name == 'ol':\n",
    "                                for l in s.find_all('li'):\n",
    "                                    self.websites.add(l.text.lower().strip())\n",
    "                                    \n",
    "            elif s == 'hostessmeetsworld.com':\n",
    "                \n",
    "                for h in soup.find_all('h1'):\n",
    "                    if 'top 10 list' in h.text.lower():\n",
    "                        for s in h.next_siblings:\n",
    "                            a_ = s.find('a')\n",
    "                            if a_:\n",
    "                                url_ = a_.get('href')\n",
    "                                if ('hostessmeetsworld' not in url_):\n",
    "                                    self.websites.add(url_.lower().split('www.')[-1].split('/')[0].strip())\n",
    "                    \n",
    "        # postprocessing\n",
    "        self.websites = {s for s in self.websites if '.' in s}   \n",
    "                \n",
    "        print(f'collected {len(self.websites)} websites')\n",
    "        \n",
    "        return self\n",
    "    \n",
    "    def save(self, file='booking_websites.txt'):\n",
    "        \n",
    "        if not os.path.exists('data'):\n",
    "            os.mkdir('data')\n",
    "            \n",
    "        with open(os.path.join('data', file), 'w') as f:\n",
    "            for website in self.websites:\n",
    "                f.write(f'{website}\\n')"
   ]
  },
  {
   "cell_type": "code",
   "execution_count": 78,
   "metadata": {},
   "outputs": [
    {
     "name": "stdout",
     "output_type": "stream",
     "text": [
      "collecting data from muslimtravelgirl.com...\n",
      "collecting data from touropia.com...\n",
      "collecting data from smartertravel.com...\n",
      "collecting data from hostessmeetsworld.com...\n",
      "collected 42 websites\n"
     ]
    }
   ],
   "source": [
    "if __name__ == '__main__':\n",
    "    \n",
    "    a = BookingWebsites()\n",
    "    a.get().save()"
   ]
  },
  {
   "cell_type": "code",
   "execution_count": null,
   "metadata": {},
   "outputs": [],
   "source": []
  }
 ],
 "metadata": {
  "kernelspec": {
   "display_name": "Python 3",
   "language": "python",
   "name": "python3"
  },
  "language_info": {
   "codemirror_mode": {
    "name": "ipython",
    "version": 3
   },
   "file_extension": ".py",
   "mimetype": "text/x-python",
   "name": "python",
   "nbconvert_exporter": "python",
   "pygments_lexer": "ipython3",
   "version": "3.6.6"
  }
 },
 "nbformat": 4,
 "nbformat_minor": 2
}
